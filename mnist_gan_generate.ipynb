{
  "nbformat": 4,
  "nbformat_minor": 0,
  "metadata": {
    "colab": {
      "name": "mnist_gan_generate.ipynb",
      "provenance": []
    },
    "kernelspec": {
      "name": "python3",
      "display_name": "Python 3"
    },
    "language_info": {
      "name": "python"
    }
  },
  "cells": [
    {
      "cell_type": "code",
      "execution_count": 48,
      "metadata": {
        "id": "ym45UG-W73Oh"
      },
      "outputs": [],
      "source": [
        "import torch\n",
        "from torchvision import transforms\n",
        "from tensorflow import keras\n",
        "import torch.nn as nn\n",
        "from PIL import Image\n",
        "import numpy as np\n",
        "\n",
        "import matplotlib.image as mpimg \n",
        "from matplotlib.pyplot import imshow\n",
        "%matplotlib inline\n"
      ]
    },
    {
      "cell_type": "code",
      "source": [
        "class DCGAN(nn.Module):\n",
        "    def __init__(self, channels_noise, channels_img, features_g):\n",
        "        super().__init__()\n",
        "        self.gen = nn.Sequential(\n",
        "            # Input: N x channels_noise | 1 x 100\n",
        "            self._block(channels_noise, features_g * 32, 7, 1, 0),  # img: 7x7x896\n",
        "            self._block(features_g * 32, features_g * 16, 4, 2, 1),  # img: 14x14x448\n",
        "            self._block(features_g * 16, features_g * 8, 3, 1, 1),  # img: 14x14x224\n",
        "            self._block(features_g * 8, features_g * 4, 3, 1, 1),  # img: 14x14x112\n",
        "            nn.ConvTranspose2d(\n",
        "                features_g * 4, channels_img, kernel_size=4, stride=2, padding=1\n",
        "            ),\n",
        "            # Output: N x channels_img | 28x28x1\n",
        "            nn.Tanh(),\n",
        "        )\n",
        "\n",
        "    def _block(self, in_channels, out_channels, kernel_size, stride, padding):\n",
        "        return nn.Sequential(\n",
        "            nn.ConvTranspose2d(\n",
        "                in_channels,\n",
        "                out_channels,\n",
        "                kernel_size,\n",
        "                stride,\n",
        "                padding,\n",
        "                bias=False,\n",
        "            ),\n",
        "            nn.BatchNorm2d(out_channels),\n",
        "            nn.ReLU(),\n",
        "        )\n",
        "\n",
        "    def forward(self, x):\n",
        "        return self.gen(x)"
      ],
      "metadata": {
        "id": "LLy_Q7TF9w3s"
      },
      "execution_count": 49,
      "outputs": []
    },
    {
      "cell_type": "code",
      "source": [
        "dcgan_dir = '/content/drive/MyDrive/Projects/models/PytorchDCGAN20.pth'\n",
        "\n",
        "def load_models():\n",
        "    device = torch.device('cpu')\n",
        "    dcgan = DCGAN(100, 1, 28)\n",
        "    dcgan.load_state_dict(torch.load(dcgan_dir,\n",
        "                        map_location=device))\n",
        "    dcgan.eval()\n",
        "    return dcgan"
      ],
      "metadata": {
        "id": "pY-qNxPF9wte"
      },
      "execution_count": 4,
      "outputs": []
    },
    {
      "cell_type": "code",
      "source": [
        "dcgan = load_models()"
      ],
      "metadata": {
        "id": "iSFEiNfH-Oa2"
      },
      "execution_count": 8,
      "outputs": []
    },
    {
      "cell_type": "code",
      "source": [
        "noise = torch.randn(1, 100, 1, 1)\n",
        "fake = dcgan(noise)\n",
        "fake = fake.reshape(28, 28, 1).detach().numpy().squeeze()\n",
        "fake = (fake - np.min(fake))/np.ptp(fake)\n",
        "fake = Image.fromarray(fake)\n",
        "fake = fake.resize((280, 280), resample=Image.NEAREST)\n",
        "imshow(np.array(fake), \n",
        "       cmap='gray')"
      ],
      "metadata": {
        "colab": {
          "base_uri": "https://localhost:8080/",
          "height": 287
        },
        "id": "7jB2L5jv-a31",
        "outputId": "ba4ba116-9966-4c69-e3e1-980ec21c23df"
      },
      "execution_count": 72,
      "outputs": [
        {
          "output_type": "execute_result",
          "data": {
            "text/plain": [
              "<matplotlib.image.AxesImage at 0x7fcc86a01f90>"
            ]
          },
          "metadata": {},
          "execution_count": 72
        },
        {
          "output_type": "display_data",
          "data": {
            "text/plain": [
              "<Figure size 432x288 with 1 Axes>"
            ],
            "image/png": "[encoded data removed]"
          },
          "metadata": {
            "needs_background": "light"
          }
        }
      ]
    },
    {
      "cell_type": "code",
      "source": [
        ""
      ],
      "metadata": {
        "id": "v6cP4zE4_v8D"
      },
      "execution_count": null,
      "outputs": []
    }
  ]
}